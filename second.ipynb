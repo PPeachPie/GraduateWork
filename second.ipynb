{
  "nbformat": 4,
  "nbformat_minor": 0,
  "metadata": {
    "colab": {
      "name": "second.ipynb",
      "provenance": [],
      "authorship_tag": "ABX9TyN0kZDrJyW0c+/8giIo0B66",
      "include_colab_link": true
    },
    "kernelspec": {
      "name": "python3",
      "display_name": "Python 3"
    }
  },
  "cells": [
    {
      "cell_type": "markdown",
      "metadata": {
        "id": "view-in-github",
        "colab_type": "text"
      },
      "source": [
        "<a href=\"https://colab.research.google.com/github/PPeachPie/GraduateWork/blob/master/second.ipynb\" target=\"_parent\"><img src=\"https://colab.research.google.com/assets/colab-badge.svg\" alt=\"Open In Colab\"/></a>"
      ]
    },
    {
      "cell_type": "code",
      "metadata": {
        "id": "QnFkNw_Y9kUP"
      },
      "source": [
        "import torch\r\n",
        "import random\r\n",
        "import numpy as np\r\n",
        "\r\n",
        "random.seed(0)\r\n",
        "np.random.seed(0)\r\n",
        "torch.manual_seed(0)\r\n",
        "torch.cuda.manual_seed(0)\r\n",
        "torch.backends.cudnn.deterministic = True"
      ],
      "execution_count": 3,
      "outputs": []
    },
    {
      "cell_type": "code",
      "metadata": {
        "colab": {
          "base_uri": "https://localhost:8080/"
        },
        "id": "AYyCCWz9_rxL",
        "outputId": "5b99e973-0f59-4e99-be52-a87d46c7d0ea"
      },
      "source": [
        "import sklearn.datasets\r\n",
        "wine = sklearn.datasets.load_wine()\r\n",
        "wine.data.shape"
      ],
      "execution_count": 4,
      "outputs": [
        {
          "output_type": "execute_result",
          "data": {
            "text/plain": [
              "(178, 13)"
            ]
          },
          "metadata": {
            "tags": []
          },
          "execution_count": 4
        }
      ]
    },
    {
      "cell_type": "code",
      "metadata": {
        "id": "CixdrVjnYl_l"
      },
      "source": [
        "features = wine.data.shape[1]"
      ],
      "execution_count": 29,
      "outputs": []
    },
    {
      "cell_type": "code",
      "metadata": {
        "id": "aQt1rkea_2lE"
      },
      "source": [
        "from sklearn.model_selection import train_test_split\r\n",
        "X_train, X_test, y_train, y_test = train_test_split(\r\n",
        "    wine.data[:, :features],\r\n",
        "    wine.target,\r\n",
        "    test_size=0.3,\r\n",
        "    shuffle = True\r\n",
        ")\r\n",
        "\r\n",
        "X_train=torch.FloatTensor(X_train)\r\n",
        "X_test = torch.FloatTensor(X_test)\r\n",
        "y_train=torch.LongTensor(y_train)\r\n",
        "y_test=torch.LongTensor(y_test)"
      ],
      "execution_count": 5,
      "outputs": []
    },
    {
      "cell_type": "code",
      "metadata": {
        "id": "3ncjGCA0BmJX"
      },
      "source": [
        "class WineNet(torch.nn.Module):\r\n",
        "  def __init__(self, n_hidden_neurons):\r\n",
        "    super(WineNet, self).__init__()\r\n",
        "\r\n",
        "    self.fc1=torch.nn.Linear(2, n_hidden_neurons)\r\n",
        "    self.act1=torch.nn.Sigmoid()\r\n",
        "    # self.fc2=torch.nn.Linear(n_hidden_neurons, n_hidden_neurons)\r\n",
        "    # self.act2=torch.nn.Sigmoid()\r\n",
        "    self.fc3=torch.nn.Linear(n_hidden_neurons, 3)\r\n",
        "    self.sm=torch.nn.Softmax(dim=1)\r\n",
        "\r\n",
        "  def forward(self, x):\r\n",
        "    x=self.fc1(x)\r\n",
        "    x=self.act1(x)\r\n",
        "    # x=self.fc2(x)\r\n",
        "    # x=self.act2(x)\r\n",
        "    x=self.fc3(x)\r\n",
        "    return x\r\n",
        "  \r\n",
        "  def inference(self, x):\r\n",
        "    x=self.forward(x)\r\n",
        "    x=self.sm(x)\r\n",
        "    return x"
      ],
      "execution_count": 16,
      "outputs": []
    },
    {
      "cell_type": "code",
      "metadata": {
        "id": "HrHyfQwAEkZt"
      },
      "source": [
        "wine_net = WineNet(5)"
      ],
      "execution_count": 17,
      "outputs": []
    },
    {
      "cell_type": "code",
      "metadata": {
        "id": "hRvVH1S7Epax"
      },
      "source": [
        "loss = torch.nn.CrossEntropyLoss()\r\n",
        "optimizer = torch.optim.Adam(wine_net.parameters(), lr=0.001)"
      ],
      "execution_count": 18,
      "outputs": []
    },
    {
      "cell_type": "code",
      "metadata": {
        "colab": {
          "base_uri": "https://localhost:8080/"
        },
        "id": "NDWtzwbvFK9O",
        "outputId": "029503e2-4462-4bef-a84a-8f5f0833fbee"
      },
      "source": [
        "batch_size = 10\r\n",
        "\r\n",
        "for epoch in range(10000):\r\n",
        "  order = np.random.permutation(len(X_train))\r\n",
        "  for start_index in range(0, len(X_train), batch_size):\r\n",
        "    optimizer.zero_grad()\r\n",
        "\r\n",
        "    batch_indexes = order[start_index:start_index+batch_size]\r\n",
        "\r\n",
        "    x_batch = X_train[batch_indexes]\r\n",
        "    y_batch = y_train[batch_indexes]\r\n",
        "\r\n",
        "    preds = wine_net.forward(x_batch)\r\n",
        "\r\n",
        "    loss_val = loss(preds, y_batch)\r\n",
        "    loss_val.backward()\r\n",
        "\r\n",
        "    optimizer.step()\r\n",
        "\r\n",
        "  if epoch % 100 == 0:\r\n",
        "    test_preds = wine_net.forward(X_test)\r\n",
        "    test_preds = test_preds.argmax(dim=1)\r\n",
        "    print((test_preds == y_test).float().mean())"
      ],
      "execution_count": 19,
      "outputs": [
        {
          "output_type": "stream",
          "text": [
            "tensor(0.2407)\n",
            "tensor(0.5556)\n",
            "tensor(0.4815)\n",
            "tensor(0.5926)\n",
            "tensor(0.6296)\n",
            "tensor(0.7037)\n",
            "tensor(0.7593)\n",
            "tensor(0.7593)\n",
            "tensor(0.7778)\n",
            "tensor(0.7593)\n",
            "tensor(0.7593)\n",
            "tensor(0.7963)\n",
            "tensor(0.8148)\n",
            "tensor(0.8519)\n",
            "tensor(0.8519)\n",
            "tensor(0.8519)\n",
            "tensor(0.8333)\n",
            "tensor(0.8519)\n",
            "tensor(0.8519)\n",
            "tensor(0.8519)\n",
            "tensor(0.8519)\n",
            "tensor(0.8519)\n",
            "tensor(0.8704)\n",
            "tensor(0.8704)\n",
            "tensor(0.8704)\n",
            "tensor(0.8704)\n",
            "tensor(0.8704)\n",
            "tensor(0.8704)\n",
            "tensor(0.8704)\n",
            "tensor(0.8704)\n",
            "tensor(0.8889)\n",
            "tensor(0.8704)\n",
            "tensor(0.8704)\n",
            "tensor(0.8704)\n",
            "tensor(0.8704)\n",
            "tensor(0.8704)\n",
            "tensor(0.8704)\n",
            "tensor(0.8889)\n",
            "tensor(0.8889)\n",
            "tensor(0.8704)\n",
            "tensor(0.8889)\n",
            "tensor(0.8889)\n",
            "tensor(0.9074)\n",
            "tensor(0.8889)\n",
            "tensor(0.8889)\n",
            "tensor(0.8889)\n",
            "tensor(0.8889)\n",
            "tensor(0.8704)\n",
            "tensor(0.8889)\n",
            "tensor(0.8889)\n",
            "tensor(0.9074)\n",
            "tensor(0.9074)\n",
            "tensor(0.8704)\n",
            "tensor(0.8889)\n",
            "tensor(0.9074)\n",
            "tensor(0.9074)\n",
            "tensor(0.8889)\n",
            "tensor(0.8704)\n",
            "tensor(0.8704)\n",
            "tensor(0.9074)\n",
            "tensor(0.9074)\n",
            "tensor(0.8889)\n",
            "tensor(0.8704)\n",
            "tensor(0.8889)\n",
            "tensor(0.8704)\n",
            "tensor(0.9074)\n",
            "tensor(0.8889)\n",
            "tensor(0.8889)\n",
            "tensor(0.8889)\n",
            "tensor(0.8889)\n",
            "tensor(0.8889)\n",
            "tensor(0.8889)\n",
            "tensor(0.8704)\n",
            "tensor(0.8889)\n",
            "tensor(0.8889)\n",
            "tensor(0.8889)\n",
            "tensor(0.8889)\n",
            "tensor(0.8889)\n",
            "tensor(0.8704)\n",
            "tensor(0.8889)\n",
            "tensor(0.8889)\n",
            "tensor(0.8889)\n",
            "tensor(0.8889)\n",
            "tensor(0.8889)\n",
            "tensor(0.8889)\n",
            "tensor(0.8889)\n",
            "tensor(0.8519)\n",
            "tensor(0.8704)\n",
            "tensor(0.8889)\n",
            "tensor(0.8889)\n",
            "tensor(0.8889)\n",
            "tensor(0.8889)\n",
            "tensor(0.8889)\n",
            "tensor(0.8519)\n",
            "tensor(0.8889)\n",
            "tensor(0.8889)\n",
            "tensor(0.8519)\n",
            "tensor(0.8889)\n",
            "tensor(0.8889)\n",
            "tensor(0.8889)\n"
          ],
          "name": "stdout"
        }
      ]
    },
    {
      "cell_type": "code",
      "metadata": {
        "colab": {
          "base_uri": "https://localhost:8080/",
          "height": 497
        },
        "id": "MpRAkYcuP1uF",
        "outputId": "e1504752-dba9-4679-e2a5-f56000d771c6"
      },
      "source": [
        "import matplotlib.pyplot as plt\r\n",
        "%matplotlib inline\r\n",
        "\r\n",
        "plt.rcParams['figure.figsize'] = (10, 8)\r\n",
        "\r\n",
        "n_classes = 3\r\n",
        "plot_colors = ['green', 'blue', 'orange']\r\n",
        "plot_step = 0.02\r\n",
        "\r\n",
        "x_min, x_max = X_train[:, 0].min()-1, X_train[:, 0].max()+1\r\n",
        "y_min, y_max = X_train[:, 1].min()-1, X_train[:, 1].max()+1\r\n",
        "\r\n",
        "xx, yy = torch.meshgrid(torch.arange(x_min, x_max, plot_step), torch.arange(y_min, y_max, plot_step))\r\n",
        "\r\n",
        "preds = wine_net.inference(torch.cat([xx.reshape(-1, 1), yy.reshape(-1, 1)], dim=1))\r\n",
        "\r\n",
        "preds_class = preds.data.numpy().argmax(axis=1)\r\n",
        "preds_class = preds_class.reshape(xx.shape)\r\n",
        "plt.contourf(xx, yy, preds_class, cmap='Accent')\r\n",
        "\r\n",
        "for i, color in zip(range(n_classes), plot_colors):\r\n",
        "  indexes = np.where(y_train == i)\r\n",
        "  plt.scatter(X_train[indexes, 0], X_train[indexes, 1], c=color, label=wine.target_names[i], cmap='Acent')\r\n",
        "  plt.xlabel(wine.feature_names[0])\r\n",
        "  plt.ylabel(wine.feature_names[1])\r\n",
        "  plt.legend()"
      ],
      "execution_count": 21,
      "outputs": [
        {
          "output_type": "display_data",
          "data": {
            "image/png": "[encoded data removed]",
            "text/plain": [
              "<Figure size 720x576 with 1 Axes>"
            ]
          },
          "metadata": {
            "tags": [],
            "needs_background": "light"
          }
        }
      ]
    },
    {
      "cell_type": "code",
      "metadata": {
        "id": "lywZncnRVqRL"
      },
      "source": [
        ""
      ],
      "execution_count": null,
      "outputs": []
    }
  ]
}